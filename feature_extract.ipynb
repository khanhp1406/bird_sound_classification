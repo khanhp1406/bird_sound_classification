{
 "cells": [
  {
   "cell_type": "code",
   "execution_count": 1,
   "metadata": {},
   "outputs": [],
   "source": [
    "import os\n",
    "from tqdm import tqdm\n",
    "import librosa, librosa.display\n",
    "import pandas as pd\n",
    "import sklearn\n",
    "import numpy as np\n",
    "import glob2\n",
    "from collections import defaultdict"
   ]
  },
  {
   "cell_type": "code",
   "execution_count": 2,
   "metadata": {},
   "outputs": [],
   "source": [
    "SR = 44100           # Sampling frequency\n",
    "N_MELS = 40          # Mel band parameters   \n",
    "\n",
    "def extract_features(file_name):\n",
    "    try:\n",
    "        file_name = file_name.replace('\\\\', '/')\n",
    "        audio, sample_rate = librosa.load(file_name, mono=True, sr=SR, res_type='kaiser_fast')\n",
    "        n_fft = int(sample_rate * 0.02) \n",
    "        hop_length = n_fft//2\n",
    "        mfccs = librosa.feature.mfcc(y=audio, sr=sample_rate, n_mfcc=N_MELS, hop_length=hop_length, n_fft=n_fft)\n",
    "        mfccs_scaled = np.mean(mfccs.T, axis=0)\n",
    "    except Exception as e:\n",
    "        print(f'Error encountered while parsing file: {file_name}')\n",
    "        return None\n",
    "    return mfccs_scaled"
   ]
  },
  {
   "cell_type": "code",
   "execution_count": 3,
   "metadata": {},
   "outputs": [],
   "source": [
    "def save_features(file_path):\n",
    "    feature = []\n",
    "    for bird, path in enumerate(tqdm(glob2.glob(pathname=file_path))):\n",
    "        class_label = path.split(\"\\\\\")[1]\n",
    "        data = extract_features(path)\n",
    "        feature.append([data, class_label])\n",
    "    return feature"
   ]
  },
  {
   "cell_type": "code",
   "execution_count": 4,
   "metadata": {},
   "outputs": [
    {
     "name": "stderr",
     "output_type": "stream",
     "text": [
      "100%|██████████████████████████████████████████████████████████████████████████████| 1000/1000 [04:39<00:00,  3.58it/s]\n"
     ]
    },
    {
     "data": {
      "text/html": [
       "<div>\n",
       "<style scoped>\n",
       "    .dataframe tbody tr th:only-of-type {\n",
       "        vertical-align: middle;\n",
       "    }\n",
       "\n",
       "    .dataframe tbody tr th {\n",
       "        vertical-align: top;\n",
       "    }\n",
       "\n",
       "    .dataframe thead th {\n",
       "        text-align: right;\n",
       "    }\n",
       "</style>\n",
       "<table border=\"1\" class=\"dataframe\">\n",
       "  <thead>\n",
       "    <tr style=\"text-align: right;\">\n",
       "      <th></th>\n",
       "      <th>feature</th>\n",
       "      <th>class_label</th>\n",
       "    </tr>\n",
       "  </thead>\n",
       "  <tbody>\n",
       "    <tr>\n",
       "      <th>0</th>\n",
       "      <td>[-415.42465, 118.90836, -104.75949, 24.294622,...</td>\n",
       "      <td>cliswa</td>\n",
       "    </tr>\n",
       "    <tr>\n",
       "      <th>1</th>\n",
       "      <td>[-392.9839, 108.54773, -108.75539, 7.0109396, ...</td>\n",
       "      <td>cliswa</td>\n",
       "    </tr>\n",
       "    <tr>\n",
       "      <th>2</th>\n",
       "      <td>[-383.60422, 102.93317, -117.18468, 23.236774,...</td>\n",
       "      <td>cliswa</td>\n",
       "    </tr>\n",
       "    <tr>\n",
       "      <th>3</th>\n",
       "      <td>[-434.53595, 132.37169, -105.35982, 30.331165,...</td>\n",
       "      <td>cliswa</td>\n",
       "    </tr>\n",
       "    <tr>\n",
       "      <th>4</th>\n",
       "      <td>[-421.94064, 119.54328, -112.59305, 40.792915,...</td>\n",
       "      <td>cliswa</td>\n",
       "    </tr>\n",
       "    <tr>\n",
       "      <th>...</th>\n",
       "      <td>...</td>\n",
       "      <td>...</td>\n",
       "    </tr>\n",
       "    <tr>\n",
       "      <th>995</th>\n",
       "      <td>[-543.2739, 97.48041, -79.73211, -31.352812, -...</td>\n",
       "      <td>foxspa</td>\n",
       "    </tr>\n",
       "    <tr>\n",
       "      <th>996</th>\n",
       "      <td>[-684.93677, 72.11933, -48.00181, 28.039211, -...</td>\n",
       "      <td>foxspa</td>\n",
       "    </tr>\n",
       "    <tr>\n",
       "      <th>997</th>\n",
       "      <td>[-494.66534, 5.5761166, -223.52647, -50.89052,...</td>\n",
       "      <td>foxspa</td>\n",
       "    </tr>\n",
       "    <tr>\n",
       "      <th>998</th>\n",
       "      <td>[-536.7199, 76.12634, -16.417595, 61.409256, 2...</td>\n",
       "      <td>foxspa</td>\n",
       "    </tr>\n",
       "    <tr>\n",
       "      <th>999</th>\n",
       "      <td>[-493.06824, 95.04377, 9.872832, 15.521363, 28...</td>\n",
       "      <td>foxspa</td>\n",
       "    </tr>\n",
       "  </tbody>\n",
       "</table>\n",
       "<p>1000 rows × 2 columns</p>\n",
       "</div>"
      ],
      "text/plain": [
       "                                               feature class_label\n",
       "0    [-415.42465, 118.90836, -104.75949, 24.294622,...      cliswa\n",
       "1    [-392.9839, 108.54773, -108.75539, 7.0109396, ...      cliswa\n",
       "2    [-383.60422, 102.93317, -117.18468, 23.236774,...      cliswa\n",
       "3    [-434.53595, 132.37169, -105.35982, 30.331165,...      cliswa\n",
       "4    [-421.94064, 119.54328, -112.59305, 40.792915,...      cliswa\n",
       "..                                                 ...         ...\n",
       "995  [-543.2739, 97.48041, -79.73211, -31.352812, -...      foxspa\n",
       "996  [-684.93677, 72.11933, -48.00181, 28.039211, -...      foxspa\n",
       "997  [-494.66534, 5.5761166, -223.52647, -50.89052,...      foxspa\n",
       "998  [-536.7199, 76.12634, -16.417595, 61.409256, 2...      foxspa\n",
       "999  [-493.06824, 95.04377, 9.872832, 15.521363, 28...      foxspa\n",
       "\n",
       "[1000 rows x 2 columns]"
      ]
     },
     "execution_count": 4,
     "metadata": {},
     "output_type": "execute_result"
    }
   ],
   "source": [
    "file_path = './data/*/*.wav'\n",
    "features = save_features(file_path)\n",
    "features_df = pd.DataFrame(features, columns=['feature', 'class_label'])\n",
    "features_df"
   ]
  },
  {
   "cell_type": "code",
   "execution_count": 5,
   "metadata": {},
   "outputs": [
    {
     "data": {
      "text/plain": [
       "(40,)"
      ]
     },
     "execution_count": 5,
     "metadata": {},
     "output_type": "execute_result"
    }
   ],
   "source": [
    "features_df['feature'][0].shape"
   ]
  },
  {
   "cell_type": "code",
   "execution_count": 6,
   "metadata": {},
   "outputs": [
    {
     "data": {
      "text/plain": [
       "array(['cliswa', 'doccor', 'dowoo', 'dusfly', 'easblu', 'easmea',\n",
       "       'eucdov', 'eursta', 'evegro', 'foxspa'], dtype=object)"
      ]
     },
     "execution_count": 6,
     "metadata": {},
     "output_type": "execute_result"
    }
   ],
   "source": [
    "class_label = features_df['class_label'].unique()\n",
    "class_label"
   ]
  },
  {
   "cell_type": "code",
   "execution_count": 7,
   "metadata": {},
   "outputs": [],
   "source": [
    "class_number = []\n",
    "for i, label in enumerate(class_label):\n",
    "    for idx, row in features_df.iterrows():\n",
    "        if row['class_label'] == label:\n",
    "            class_number.append(i)\n",
    "\n",
    "class_number = pd.Series(class_number)"
   ]
  },
  {
   "cell_type": "code",
   "execution_count": 8,
   "metadata": {},
   "outputs": [],
   "source": [
    "features_df['class_number'] = class_number"
   ]
  },
  {
   "cell_type": "code",
   "execution_count": 9,
   "metadata": {},
   "outputs": [
    {
     "data": {
      "text/html": [
       "<div>\n",
       "<style scoped>\n",
       "    .dataframe tbody tr th:only-of-type {\n",
       "        vertical-align: middle;\n",
       "    }\n",
       "\n",
       "    .dataframe tbody tr th {\n",
       "        vertical-align: top;\n",
       "    }\n",
       "\n",
       "    .dataframe thead th {\n",
       "        text-align: right;\n",
       "    }\n",
       "</style>\n",
       "<table border=\"1\" class=\"dataframe\">\n",
       "  <thead>\n",
       "    <tr style=\"text-align: right;\">\n",
       "      <th></th>\n",
       "      <th>feature</th>\n",
       "      <th>class_label</th>\n",
       "      <th>class_number</th>\n",
       "    </tr>\n",
       "  </thead>\n",
       "  <tbody>\n",
       "    <tr>\n",
       "      <th>0</th>\n",
       "      <td>[-415.42465, 118.90836, -104.75949, 24.294622,...</td>\n",
       "      <td>cliswa</td>\n",
       "      <td>0</td>\n",
       "    </tr>\n",
       "    <tr>\n",
       "      <th>1</th>\n",
       "      <td>[-392.9839, 108.54773, -108.75539, 7.0109396, ...</td>\n",
       "      <td>cliswa</td>\n",
       "      <td>0</td>\n",
       "    </tr>\n",
       "    <tr>\n",
       "      <th>2</th>\n",
       "      <td>[-383.60422, 102.93317, -117.18468, 23.236774,...</td>\n",
       "      <td>cliswa</td>\n",
       "      <td>0</td>\n",
       "    </tr>\n",
       "    <tr>\n",
       "      <th>3</th>\n",
       "      <td>[-434.53595, 132.37169, -105.35982, 30.331165,...</td>\n",
       "      <td>cliswa</td>\n",
       "      <td>0</td>\n",
       "    </tr>\n",
       "    <tr>\n",
       "      <th>4</th>\n",
       "      <td>[-421.94064, 119.54328, -112.59305, 40.792915,...</td>\n",
       "      <td>cliswa</td>\n",
       "      <td>0</td>\n",
       "    </tr>\n",
       "    <tr>\n",
       "      <th>...</th>\n",
       "      <td>...</td>\n",
       "      <td>...</td>\n",
       "      <td>...</td>\n",
       "    </tr>\n",
       "    <tr>\n",
       "      <th>995</th>\n",
       "      <td>[-543.2739, 97.48041, -79.73211, -31.352812, -...</td>\n",
       "      <td>foxspa</td>\n",
       "      <td>9</td>\n",
       "    </tr>\n",
       "    <tr>\n",
       "      <th>996</th>\n",
       "      <td>[-684.93677, 72.11933, -48.00181, 28.039211, -...</td>\n",
       "      <td>foxspa</td>\n",
       "      <td>9</td>\n",
       "    </tr>\n",
       "    <tr>\n",
       "      <th>997</th>\n",
       "      <td>[-494.66534, 5.5761166, -223.52647, -50.89052,...</td>\n",
       "      <td>foxspa</td>\n",
       "      <td>9</td>\n",
       "    </tr>\n",
       "    <tr>\n",
       "      <th>998</th>\n",
       "      <td>[-536.7199, 76.12634, -16.417595, 61.409256, 2...</td>\n",
       "      <td>foxspa</td>\n",
       "      <td>9</td>\n",
       "    </tr>\n",
       "    <tr>\n",
       "      <th>999</th>\n",
       "      <td>[-493.06824, 95.04377, 9.872832, 15.521363, 28...</td>\n",
       "      <td>foxspa</td>\n",
       "      <td>9</td>\n",
       "    </tr>\n",
       "  </tbody>\n",
       "</table>\n",
       "<p>1000 rows × 3 columns</p>\n",
       "</div>"
      ],
      "text/plain": [
       "                                               feature class_label  \\\n",
       "0    [-415.42465, 118.90836, -104.75949, 24.294622,...      cliswa   \n",
       "1    [-392.9839, 108.54773, -108.75539, 7.0109396, ...      cliswa   \n",
       "2    [-383.60422, 102.93317, -117.18468, 23.236774,...      cliswa   \n",
       "3    [-434.53595, 132.37169, -105.35982, 30.331165,...      cliswa   \n",
       "4    [-421.94064, 119.54328, -112.59305, 40.792915,...      cliswa   \n",
       "..                                                 ...         ...   \n",
       "995  [-543.2739, 97.48041, -79.73211, -31.352812, -...      foxspa   \n",
       "996  [-684.93677, 72.11933, -48.00181, 28.039211, -...      foxspa   \n",
       "997  [-494.66534, 5.5761166, -223.52647, -50.89052,...      foxspa   \n",
       "998  [-536.7199, 76.12634, -16.417595, 61.409256, 2...      foxspa   \n",
       "999  [-493.06824, 95.04377, 9.872832, 15.521363, 28...      foxspa   \n",
       "\n",
       "     class_number  \n",
       "0               0  \n",
       "1               0  \n",
       "2               0  \n",
       "3               0  \n",
       "4               0  \n",
       "..            ...  \n",
       "995             9  \n",
       "996             9  \n",
       "997             9  \n",
       "998             9  \n",
       "999             9  \n",
       "\n",
       "[1000 rows x 3 columns]"
      ]
     },
     "execution_count": 9,
     "metadata": {},
     "output_type": "execute_result"
    }
   ],
   "source": [
    "features_df"
   ]
  },
  {
   "cell_type": "code",
   "execution_count": 10,
   "metadata": {},
   "outputs": [],
   "source": [
    "features_df.to_csv('bird_audio.csv',index=False)"
   ]
  },
  {
   "cell_type": "code",
   "execution_count": 11,
   "metadata": {},
   "outputs": [
    {
     "data": {
      "text/plain": [
       "array([-4.1542465e+02,  1.1890836e+02, -1.0475949e+02,  2.4294622e+01,\n",
       "       -1.9978064e+01, -4.8570576e-01, -1.1980801e+01,  1.1485501e+01,\n",
       "       -2.6256177e-01, -7.2262869e+00,  6.8554492e+00, -4.2383418e+00,\n",
       "        1.1867721e+01, -2.7769375e+00,  2.1217377e+00, -2.6373386e+00,\n",
       "       -3.6719444e-01,  1.6173469e-01, -1.0012254e+00,  1.1583397e+00,\n",
       "       -4.1946769e+00,  5.7366657e+00, -2.8120406e+00,  3.1989953e-01,\n",
       "        1.9093671e+00,  6.3231957e-01, -1.1854887e+00, -2.4036403e+00,\n",
       "        1.4426509e+00, -5.7172656e-01,  2.2449334e+00, -8.5855013e-01,\n",
       "        7.0267028e-01, -3.1985015e-01,  4.1044122e-01, -2.5187333e+00,\n",
       "       -2.7885652e+00,  2.6166978e+00, -1.4519862e+00, -2.2733076e-01],\n",
       "      dtype=float32)"
      ]
     },
     "execution_count": 11,
     "metadata": {},
     "output_type": "execute_result"
    }
   ],
   "source": [
    "features_df['feature'][0]"
   ]
  },
  {
   "cell_type": "code",
   "execution_count": null,
   "metadata": {},
   "outputs": [],
   "source": []
  }
 ],
 "metadata": {
  "kernelspec": {
   "display_name": "Python 3",
   "language": "python",
   "name": "python3"
  },
  "language_info": {
   "codemirror_mode": {
    "name": "ipython",
    "version": 3
   },
   "file_extension": ".py",
   "mimetype": "text/x-python",
   "name": "python",
   "nbconvert_exporter": "python",
   "pygments_lexer": "ipython3",
   "version": "3.8.5"
  }
 },
 "nbformat": 4,
 "nbformat_minor": 4
}
